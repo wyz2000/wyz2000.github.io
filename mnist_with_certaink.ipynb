{
 "cells": [
  {
   "cell_type": "code",
   "execution_count": 2,
   "metadata": {},
   "outputs": [
    {
     "name": "stdout",
     "output_type": "stream",
     "text": [
      "WARNING:tensorflow:From C:\\Users\\wuyanze\\anaconda3\\envs\\tensorflow\\lib\\site-packages\\tensorflow_core\\python\\compat\\v2_compat.py:88: disable_resource_variables (from tensorflow.python.ops.variable_scope) is deprecated and will be removed in a future version.\n",
      "Instructions for updating:\n",
      "non-resource variables are not supported in the long term\n",
      "Extracting D:/MNIST_data\\train-images-idx3-ubyte.gz\n",
      "Extracting D:/MNIST_data\\train-labels-idx1-ubyte.gz\n",
      "Extracting D:/MNIST_data\\t10k-images-idx3-ubyte.gz\n",
      "Extracting D:/MNIST_data\\t10k-labels-idx1-ubyte.gz\n",
      "WARNING:tensorflow:From <ipython-input-2-8cb60069a26d>:35: calling argmax (from tensorflow.python.ops.math_ops) with dimension is deprecated and will be removed in a future version.\n",
      "Instructions for updating:\n",
      "Use the `axis` argument instead\n",
      "预测值: [6 7 6 1 6]\n",
      "真实值: [6 7 6 1 6]\n",
      "accuracy: 100.0\n"
     ]
    }
   ],
   "source": [
    "\n",
    "import tensorflow.compat.v1 as tf\n",
    "tf.disable_v2_behavior()\n",
    "import numpy as np\n",
    "from tensorflow.examples.tutorials.mnist import input_data\n",
    " \n",
    "mnist = input_data.read_data_sets('D:/MNIST_data', one_hot=True)\n",
    "trainNum = 55000\n",
    "testNum = 10000\n",
    "trainSize = 500\n",
    "testSize = 5\n",
    "k = 4\n",
    " \n",
    "# data 分解\n",
    "trainIndex = np.random.choice(trainNum, trainSize, replace=False)\n",
    "testIndex = np.random.choice(testNum, testSize, replace=False)\n",
    "trainData = mnist.train.images[trainIndex]  # 训练图片\n",
    "trainLabel = mnist.train.labels[trainIndex]  # 训练标签\n",
    "testData = mnist.test.images[testIndex]  # 测试图片\n",
    "testLabel = mnist.test.labels[testIndex]  # 测试标签\n",
    " \n",
    "# 利用placeholder来完成数据的加载\n",
    "trainDataInput = tf.placeholder(shape=[None, 784], dtype=tf.float32)\n",
    "trainLabelInput = tf.placeholder(shape=[None, 10], dtype=tf.float32)\n",
    "testDataInput = tf.placeholder(shape=[None, 784], dtype=tf.float32)\n",
    "testLabelInput = tf.placeholder(shape=[None, 10], dtype=tf.float32)\n",
    " \n",
    "# KNN的距离\n",
    "f1 = tf.expand_dims(testDataInput, 1)  # 维度扩展\n",
    "f2 = tf.subtract(trainDataInput, f1)  # 二者之差\n",
    "f3 = tf.reduce_sum(tf.abs(f2), reduction_indices=2)\n",
    "f4 = tf.negative(f3)  # 取反\n",
    "f5, f6 = tf.nn.top_k(f4, k=k)  # 最大的四个值 f5表示的是数据 f6表示的该数据所处的下标\n",
    "f7 = tf.gather(trainLabelInput, f6)  # 根据f6下标去寻找trainLabelInput中对应的标签\n",
    "f8 = tf.reduce_sum(f7, reduction_indices=1)\n",
    "f9 = tf.argmax(f8, dimension=1)\n",
    " \n",
    "with tf.Session() as sess:\n",
    "    p9 = sess.run(f9, feed_dict={trainDataInput: trainData, testDataInput: testData, trainLabelInput: trainLabel})\n",
    "    p10 = np.argmax(testLabel, axis=1)\n",
    "    print('预测值:', p9)\n",
    "    print('真实值:', p10)\n",
    " \n",
    "j = 0\n",
    "for i in range(0, testSize):\n",
    "    if p10[i] == p9[i]:\n",
    "        j += 1\n",
    "print('accuracy:', j*100/testSize)\n"
   ]
  },
  {
   "cell_type": "code",
   "execution_count": null,
   "metadata": {},
   "outputs": [],
   "source": []
  }
 ],
 "metadata": {
  "kernelspec": {
   "display_name": "tensorflow",
   "language": "python",
   "name": "tensorflow"
  },
  "language_info": {
   "codemirror_mode": {
    "name": "ipython",
    "version": 3
   },
   "file_extension": ".py",
   "mimetype": "text/x-python",
   "name": "python",
   "nbconvert_exporter": "python",
   "pygments_lexer": "ipython3",
   "version": "3.7.7"
  }
 },
 "nbformat": 4,
 "nbformat_minor": 4
}
