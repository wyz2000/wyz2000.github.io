{
 "cells": [
  {
   "cell_type": "code",
   "execution_count": 4,
   "metadata": {},
   "outputs": [],
   "source": [
    "import numpy as np\n",
    "from math import sqrt\n",
    "from collections import Counter\n",
    " \n",
    "class KNNClassifier:\n",
    "    def __init__(self,k):\n",
    "#初始化KNN分类器\n",
    "        assert  k >= 1\n",
    "#断言判断k的值是否合法\n",
    "        self.k = k\n",
    "        self._X_train = None\n",
    "        self._y_train = None\n",
    " \n",
    "    def fit(self,X_train,y_train):\n",
    "#根据训练数据集X_train和Y_train训练KNN分类器，形成模型\n",
    "        assert X_train.shape[0] == y_train.shape[0]\n",
    "    #数据和标签的大小必须一样\n",
    "        assert self.k <= X_train.shape[0]\n",
    "#k的值不能超过数据的大小\n",
    "        self._X_train = X_train\n",
    "        self._y_train = y_train\n",
    "        return self\n",
    "    def predict(self,X_predict):\n",
    "       #必须将训练数据集和标签拟合为模型才能进行预测的过程\n",
    "        assert self._X_train is not None and self._y_train is not None\n",
    "#训练数据和标签不可以是空的\n",
    "        assert X_predict.shape[1]== self._X_train.shape[1]\n",
    "#待预测数据和训练数据的列(特征个数)必须相同\n",
    "        y_predict = [self._predict(x) for x in X_predict]\n",
    "        return np.array(y_predict)\n",
    "    def _predict(self,x):\n",
    "#给定单个待测数据x,返回x的预测数据结果\n",
    "        assert x.shape[0] == self._X_train.shape[1]\n",
    "#x表示一行数据，即一个数组，那么它的特征数据个数，必须和训练数据相同\n",
    "        distances = [sqrt(np.sum((x_train - x)**2))for x_train in self._X_train]\n",
    "        nearest = np.argsort(distances)\n",
    "        topk_y = [self._y_train[i] for i in nearest[:self.k]]\n",
    "        votes = Counter(topk_y)\n",
    "        return votes.most_common(1)[0][0]\n"
   ]
  },
  {
   "cell_type": "code",
   "execution_count": null,
   "metadata": {},
   "outputs": [],
   "source": []
  }
 ],
 "metadata": {
  "kernelspec": {
   "display_name": "Python 3",
   "language": "python",
   "name": "python3"
  },
  "language_info": {
   "codemirror_mode": {
    "name": "ipython",
    "version": 3
   },
   "file_extension": ".py",
   "mimetype": "text/x-python",
   "name": "python",
   "nbconvert_exporter": "python",
   "pygments_lexer": "ipython3",
   "version": "3.7.3"
  }
 },
 "nbformat": 4,
 "nbformat_minor": 2
}